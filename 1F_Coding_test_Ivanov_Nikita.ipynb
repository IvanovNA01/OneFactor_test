{
  "nbformat": 4,
  "nbformat_minor": 0,
  "metadata": {
    "colab": {
      "name": "1F-Coding_test_Ivanov_Nikita.ipynb",
      "provenance": [],
      "collapsed_sections": []
    },
    "kernelspec": {
      "name": "python3",
      "display_name": "Python 3"
    }
  },
  "cells": [
    {
      "cell_type": "markdown",
      "metadata": {
        "id": "t8wuVqcYFx2O"
      },
      "source": [
        "## Часть 1. Python\n"
      ]
    },
    {
      "cell_type": "markdown",
      "source": [
        "*Задача 1.* Даны некоторые изменяемые коллекции типа list: list1 и list2, при том что list1 является одним из элементов list2"
      ],
      "metadata": {
        "id": "CZj8Ocv_pfri"
      }
    },
    {
      "cell_type": "code",
      "source": [
        "list1 = [1,2,3]\n",
        "list_x = list1.copy()\n",
        "list2 = [list_x, 4,5,6]"
      ],
      "metadata": {
        "id": "gVZjfHi4phcv"
      },
      "execution_count": 10,
      "outputs": []
    },
    {
      "cell_type": "markdown",
      "source": [
        "Нам необходимо присвоить новой переменной list3 содержимое list2"
      ],
      "metadata": {
        "id": "JcHdFZIvpkpW"
      }
    },
    {
      "cell_type": "code",
      "source": [
        "list3 = list2"
      ],
      "metadata": {
        "id": "fYcnxdNopm9k"
      },
      "execution_count": 9,
      "outputs": []
    },
    {
      "cell_type": "markdown",
      "source": [
        "Далее мы производим некоторое изменение в элементах list2. Что будет с list3 ?"
      ],
      "metadata": {
        "id": "q5XSLzbTpomL"
      }
    },
    {
      "cell_type": "code",
      "source": [
        "list2.pop()\n",
        "list3"
      ],
      "metadata": {
        "id": "sVomtH5upqjI",
        "colab": {
          "base_uri": "https://localhost:8080/"
        },
        "outputId": "eebc6f5f-f891-4e3b-ef34-b0c9038d94f3"
      },
      "execution_count": 12,
      "outputs": [
        {
          "output_type": "execute_result",
          "data": {
            "text/plain": [
              "[[1, 2, 3], 4, 5, 6]"
            ]
          },
          "metadata": {},
          "execution_count": 12
        }
      ]
    },
    {
      "cell_type": "markdown",
      "source": [
        "Как оставить коллекцию list3 неизменяемой?"
      ],
      "metadata": {
        "id": "5fdX1IxTpsW4"
      }
    },
    {
      "cell_type": "code",
      "source": [
        "#Ваш код здесь\n",
        "import copy \n",
        "list3 = copy.deepcopy(list2)"
      ],
      "metadata": {
        "id": "e92lzvmRpvFg"
      },
      "execution_count": 15,
      "outputs": []
    },
    {
      "cell_type": "code",
      "source": [
        "list3"
      ],
      "metadata": {
        "colab": {
          "base_uri": "https://localhost:8080/"
        },
        "id": "mBThTjeGcwKq",
        "outputId": "00e61249-0271-469b-9354-a35a774696f8"
      },
      "execution_count": 16,
      "outputs": [
        {
          "output_type": "execute_result",
          "data": {
            "text/plain": [
              "[[1, 2], 4, 5]"
            ]
          },
          "metadata": {},
          "execution_count": 16
        }
      ]
    },
    {
      "cell_type": "markdown",
      "source": [
        "Далее мы производим некоторое изменение в элементах list1. Что будет с list3 ?"
      ],
      "metadata": {
        "id": "9hlSCHvtpvxZ"
      }
    },
    {
      "cell_type": "code",
      "source": [
        "list1.pop()\n",
        "list3"
      ],
      "metadata": {
        "id": "eDvlYMH7pyGd",
        "colab": {
          "base_uri": "https://localhost:8080/"
        },
        "outputId": "d00660d6-5c1d-4bd4-c128-9b43473ce961"
      },
      "execution_count": 13,
      "outputs": [
        {
          "output_type": "execute_result",
          "data": {
            "text/plain": [
              "[[1, 2], 4, 5, 6]"
            ]
          },
          "metadata": {},
          "execution_count": 13
        }
      ]
    },
    {
      "cell_type": "code",
      "source": [
        "#Ваш код здесь"
      ],
      "metadata": {
        "id": "6OUwNIkYp13y"
      },
      "execution_count": null,
      "outputs": []
    },
    {
      "cell_type": "markdown",
      "source": [
        "*Задача 2.* Что ожидаем в выводе этой ячейки ?"
      ],
      "metadata": {
        "id": "_CPnbTkg5ddv"
      }
    },
    {
      "cell_type": "code",
      "source": [
        "import numpy as np\n",
        "np.NaN == np.NaN"
      ],
      "metadata": {
        "id": "jOysJAdt5eks",
        "colab": {
          "base_uri": "https://localhost:8080/"
        },
        "outputId": "f686be68-03d6-4052-ca06-5cd128dd0a78"
      },
      "execution_count": 17,
      "outputs": [
        {
          "output_type": "execute_result",
          "data": {
            "text/plain": [
              "False"
            ]
          },
          "metadata": {},
          "execution_count": 17
        }
      ]
    },
    {
      "cell_type": "markdown",
      "source": [
        "*Задача 3.* Даны три списка, необходимо их объединить так, чтобы получился ожидаемый вывод ячейки"
      ],
      "metadata": {
        "id": "lw8ZDby25s4p"
      }
    },
    {
      "cell_type": "code",
      "source": [
        "fruits = ['Apples', 'Oranges', 'Bananas']\n",
        "quantities = [5, 3, 4]\n",
        "prices = [1.50, 2.25, 0.89]\n",
        "\n",
        "# [('Apples', 5, 1.50),\n",
        "# ('Oranges', 3, 2.25),\n",
        "# ('Bananas', 4, 0.89)]"
      ],
      "metadata": {
        "id": "aBdCvEWy5wPa"
      },
      "execution_count": 19,
      "outputs": []
    },
    {
      "cell_type": "code",
      "source": [
        "return_list= []\n",
        "for i in range(3):\n",
        "  iteration_tuple = tuple([fruits[i],quantities[i],prices[i]])\n",
        "  return_list.append(iteration_tuple)\n",
        "\n",
        "return_list"
      ],
      "metadata": {
        "colab": {
          "base_uri": "https://localhost:8080/"
        },
        "id": "D7ngspnueV-A",
        "outputId": "cb5b233f-01ba-4bbc-9cbe-a01184e62ac2"
      },
      "execution_count": 23,
      "outputs": [
        {
          "output_type": "execute_result",
          "data": {
            "text/plain": [
              "[('Apples', 5, 1.5), ('Oranges', 3, 2.25), ('Bananas', 4, 0.89)]"
            ]
          },
          "metadata": {},
          "execution_count": 23
        }
      ]
    },
    {
      "cell_type": "code",
      "source": [
        "#Ваш код здесь\n"
      ],
      "metadata": {
        "id": "Aieijvix6eow"
      },
      "execution_count": null,
      "outputs": []
    },
    {
      "cell_type": "markdown",
      "source": [
        "*Задача 4.* Реализовать функцию вычисления медианы, применить к списку"
      ],
      "metadata": {
        "id": "P8LSmSPs57_m"
      }
    },
    {
      "cell_type": "code",
      "source": [
        "num_list = [21, 13, 19, 3, 11, 5, 18]"
      ],
      "metadata": {
        "id": "_PLb-bfn5-Xf"
      },
      "execution_count": null,
      "outputs": []
    },
    {
      "cell_type": "code",
      "source": [
        "#Ваш код здесь"
      ],
      "metadata": {
        "id": "lSt_91Kn6p2V"
      },
      "execution_count": null,
      "outputs": []
    },
    {
      "cell_type": "markdown",
      "metadata": {
        "id": "Qy3duNTv6Kio"
      },
      "source": [
        "\n"
      ]
    },
    {
      "cell_type": "markdown",
      "metadata": {
        "id": "dyhPz877_ko4"
      },
      "source": [
        "*Задача 5.*\n",
        "\n",
        "Даны датасеты df_train.txt, df_test.txt, содержащие поля </br>\n",
        "id - id клиента (в выборке один клиент может встречаться несколько раз, df_train и df_test по клиентам не пересекаются) </br>\n",
        "dt - дата, на которую собраны фичи </br>\n",
        "target - бинарный таргет 0/1 </br>\n",
        "f0...f20 - фичи"
      ]
    },
    {
      "cell_type": "code",
      "metadata": {
        "id": "dku5VHyz_icO",
        "colab": {
          "base_uri": "https://localhost:8080/",
          "height": 235
        },
        "outputId": "6ddedbf1-9b93-4087-a512-26c68967a3f0"
      },
      "source": [
        "import pandas as pd\n",
        "df = pd.read_csv('https://raw.githubusercontent.com/alexH179/test/main/df_train.csv')\n",
        "df.head()"
      ],
      "execution_count": 24,
      "outputs": [
        {
          "output_type": "execute_result",
          "data": {
            "text/plain": [
              "   id          dt  target        f0        f1  f2        f3        f4  f5  \\\n",
              "0   1  06.02.2017       0  1.136524  0.114203 NaN  0.022222  0.205882 NaN   \n",
              "1   2  09.04.2018       0  1.649123  0.131579 NaN  0.058824  0.142857 NaN   \n",
              "2   2  06.02.2017       0       NaN       NaN NaN  0.074074  0.133333 NaN   \n",
              "3   3  06.02.2017       0  1.002287  0.214339 NaN  0.373786  0.043478 NaN   \n",
              "4   3  30.03.2017       0  0.662532  0.230268 NaN  0.274038  0.066176 NaN   \n",
              "\n",
              "         f6  ...       f11       f12   f13  f14  f15  f16       f17       f18  \\\n",
              "0  0.000000  ...  0.066667  0.288889  59.0  0.0  0.0  0.0  0.062500  0.375000   \n",
              "1  0.250000  ...  0.941176  0.176471  19.0  0.0  0.0  0.0  0.000000  0.250000   \n",
              "2  0.000000  ...  0.055556  0.037037  22.0  0.5  0.5  0.0  0.121212  0.000000   \n",
              "3  0.612613  ...  0.762136  0.276699  90.0  0.0  0.8  0.0  0.000000  0.567729   \n",
              "4  0.288889  ...  0.596154  0.384615  93.0  0.0  0.5  0.0  0.000000  0.375354   \n",
              "\n",
              "    f19  f20  \n",
              "0  84.0    1  \n",
              "1  86.0    2  \n",
              "2  83.0    2  \n",
              "3  88.0    3  \n",
              "4  88.0    3  \n",
              "\n",
              "[5 rows x 24 columns]"
            ],
            "text/html": [
              "\n",
              "  <div id=\"df-8f325b09-8509-42fe-a703-f93f2f3cb395\">\n",
              "    <div class=\"colab-df-container\">\n",
              "      <div>\n",
              "<style scoped>\n",
              "    .dataframe tbody tr th:only-of-type {\n",
              "        vertical-align: middle;\n",
              "    }\n",
              "\n",
              "    .dataframe tbody tr th {\n",
              "        vertical-align: top;\n",
              "    }\n",
              "\n",
              "    .dataframe thead th {\n",
              "        text-align: right;\n",
              "    }\n",
              "</style>\n",
              "<table border=\"1\" class=\"dataframe\">\n",
              "  <thead>\n",
              "    <tr style=\"text-align: right;\">\n",
              "      <th></th>\n",
              "      <th>id</th>\n",
              "      <th>dt</th>\n",
              "      <th>target</th>\n",
              "      <th>f0</th>\n",
              "      <th>f1</th>\n",
              "      <th>f2</th>\n",
              "      <th>f3</th>\n",
              "      <th>f4</th>\n",
              "      <th>f5</th>\n",
              "      <th>f6</th>\n",
              "      <th>...</th>\n",
              "      <th>f11</th>\n",
              "      <th>f12</th>\n",
              "      <th>f13</th>\n",
              "      <th>f14</th>\n",
              "      <th>f15</th>\n",
              "      <th>f16</th>\n",
              "      <th>f17</th>\n",
              "      <th>f18</th>\n",
              "      <th>f19</th>\n",
              "      <th>f20</th>\n",
              "    </tr>\n",
              "  </thead>\n",
              "  <tbody>\n",
              "    <tr>\n",
              "      <th>0</th>\n",
              "      <td>1</td>\n",
              "      <td>06.02.2017</td>\n",
              "      <td>0</td>\n",
              "      <td>1.136524</td>\n",
              "      <td>0.114203</td>\n",
              "      <td>NaN</td>\n",
              "      <td>0.022222</td>\n",
              "      <td>0.205882</td>\n",
              "      <td>NaN</td>\n",
              "      <td>0.000000</td>\n",
              "      <td>...</td>\n",
              "      <td>0.066667</td>\n",
              "      <td>0.288889</td>\n",
              "      <td>59.0</td>\n",
              "      <td>0.0</td>\n",
              "      <td>0.0</td>\n",
              "      <td>0.0</td>\n",
              "      <td>0.062500</td>\n",
              "      <td>0.375000</td>\n",
              "      <td>84.0</td>\n",
              "      <td>1</td>\n",
              "    </tr>\n",
              "    <tr>\n",
              "      <th>1</th>\n",
              "      <td>2</td>\n",
              "      <td>09.04.2018</td>\n",
              "      <td>0</td>\n",
              "      <td>1.649123</td>\n",
              "      <td>0.131579</td>\n",
              "      <td>NaN</td>\n",
              "      <td>0.058824</td>\n",
              "      <td>0.142857</td>\n",
              "      <td>NaN</td>\n",
              "      <td>0.250000</td>\n",
              "      <td>...</td>\n",
              "      <td>0.941176</td>\n",
              "      <td>0.176471</td>\n",
              "      <td>19.0</td>\n",
              "      <td>0.0</td>\n",
              "      <td>0.0</td>\n",
              "      <td>0.0</td>\n",
              "      <td>0.000000</td>\n",
              "      <td>0.250000</td>\n",
              "      <td>86.0</td>\n",
              "      <td>2</td>\n",
              "    </tr>\n",
              "    <tr>\n",
              "      <th>2</th>\n",
              "      <td>2</td>\n",
              "      <td>06.02.2017</td>\n",
              "      <td>0</td>\n",
              "      <td>NaN</td>\n",
              "      <td>NaN</td>\n",
              "      <td>NaN</td>\n",
              "      <td>0.074074</td>\n",
              "      <td>0.133333</td>\n",
              "      <td>NaN</td>\n",
              "      <td>0.000000</td>\n",
              "      <td>...</td>\n",
              "      <td>0.055556</td>\n",
              "      <td>0.037037</td>\n",
              "      <td>22.0</td>\n",
              "      <td>0.5</td>\n",
              "      <td>0.5</td>\n",
              "      <td>0.0</td>\n",
              "      <td>0.121212</td>\n",
              "      <td>0.000000</td>\n",
              "      <td>83.0</td>\n",
              "      <td>2</td>\n",
              "    </tr>\n",
              "    <tr>\n",
              "      <th>3</th>\n",
              "      <td>3</td>\n",
              "      <td>06.02.2017</td>\n",
              "      <td>0</td>\n",
              "      <td>1.002287</td>\n",
              "      <td>0.214339</td>\n",
              "      <td>NaN</td>\n",
              "      <td>0.373786</td>\n",
              "      <td>0.043478</td>\n",
              "      <td>NaN</td>\n",
              "      <td>0.612613</td>\n",
              "      <td>...</td>\n",
              "      <td>0.762136</td>\n",
              "      <td>0.276699</td>\n",
              "      <td>90.0</td>\n",
              "      <td>0.0</td>\n",
              "      <td>0.8</td>\n",
              "      <td>0.0</td>\n",
              "      <td>0.000000</td>\n",
              "      <td>0.567729</td>\n",
              "      <td>88.0</td>\n",
              "      <td>3</td>\n",
              "    </tr>\n",
              "    <tr>\n",
              "      <th>4</th>\n",
              "      <td>3</td>\n",
              "      <td>30.03.2017</td>\n",
              "      <td>0</td>\n",
              "      <td>0.662532</td>\n",
              "      <td>0.230268</td>\n",
              "      <td>NaN</td>\n",
              "      <td>0.274038</td>\n",
              "      <td>0.066176</td>\n",
              "      <td>NaN</td>\n",
              "      <td>0.288889</td>\n",
              "      <td>...</td>\n",
              "      <td>0.596154</td>\n",
              "      <td>0.384615</td>\n",
              "      <td>93.0</td>\n",
              "      <td>0.0</td>\n",
              "      <td>0.5</td>\n",
              "      <td>0.0</td>\n",
              "      <td>0.000000</td>\n",
              "      <td>0.375354</td>\n",
              "      <td>88.0</td>\n",
              "      <td>3</td>\n",
              "    </tr>\n",
              "  </tbody>\n",
              "</table>\n",
              "<p>5 rows × 24 columns</p>\n",
              "</div>\n",
              "      <button class=\"colab-df-convert\" onclick=\"convertToInteractive('df-8f325b09-8509-42fe-a703-f93f2f3cb395')\"\n",
              "              title=\"Convert this dataframe to an interactive table.\"\n",
              "              style=\"display:none;\">\n",
              "        \n",
              "  <svg xmlns=\"http://www.w3.org/2000/svg\" height=\"24px\"viewBox=\"0 0 24 24\"\n",
              "       width=\"24px\">\n",
              "    <path d=\"M0 0h24v24H0V0z\" fill=\"none\"/>\n",
              "    <path d=\"M18.56 5.44l.94 2.06.94-2.06 2.06-.94-2.06-.94-.94-2.06-.94 2.06-2.06.94zm-11 1L8.5 8.5l.94-2.06 2.06-.94-2.06-.94L8.5 2.5l-.94 2.06-2.06.94zm10 10l.94 2.06.94-2.06 2.06-.94-2.06-.94-.94-2.06-.94 2.06-2.06.94z\"/><path d=\"M17.41 7.96l-1.37-1.37c-.4-.4-.92-.59-1.43-.59-.52 0-1.04.2-1.43.59L10.3 9.45l-7.72 7.72c-.78.78-.78 2.05 0 2.83L4 21.41c.39.39.9.59 1.41.59.51 0 1.02-.2 1.41-.59l7.78-7.78 2.81-2.81c.8-.78.8-2.07 0-2.86zM5.41 20L4 18.59l7.72-7.72 1.47 1.35L5.41 20z\"/>\n",
              "  </svg>\n",
              "      </button>\n",
              "      \n",
              "  <style>\n",
              "    .colab-df-container {\n",
              "      display:flex;\n",
              "      flex-wrap:wrap;\n",
              "      gap: 12px;\n",
              "    }\n",
              "\n",
              "    .colab-df-convert {\n",
              "      background-color: #E8F0FE;\n",
              "      border: none;\n",
              "      border-radius: 50%;\n",
              "      cursor: pointer;\n",
              "      display: none;\n",
              "      fill: #1967D2;\n",
              "      height: 32px;\n",
              "      padding: 0 0 0 0;\n",
              "      width: 32px;\n",
              "    }\n",
              "\n",
              "    .colab-df-convert:hover {\n",
              "      background-color: #E2EBFA;\n",
              "      box-shadow: 0px 1px 2px rgba(60, 64, 67, 0.3), 0px 1px 3px 1px rgba(60, 64, 67, 0.15);\n",
              "      fill: #174EA6;\n",
              "    }\n",
              "\n",
              "    [theme=dark] .colab-df-convert {\n",
              "      background-color: #3B4455;\n",
              "      fill: #D2E3FC;\n",
              "    }\n",
              "\n",
              "    [theme=dark] .colab-df-convert:hover {\n",
              "      background-color: #434B5C;\n",
              "      box-shadow: 0px 1px 3px 1px rgba(0, 0, 0, 0.15);\n",
              "      filter: drop-shadow(0px 1px 2px rgba(0, 0, 0, 0.3));\n",
              "      fill: #FFFFFF;\n",
              "    }\n",
              "  </style>\n",
              "\n",
              "      <script>\n",
              "        const buttonEl =\n",
              "          document.querySelector('#df-8f325b09-8509-42fe-a703-f93f2f3cb395 button.colab-df-convert');\n",
              "        buttonEl.style.display =\n",
              "          google.colab.kernel.accessAllowed ? 'block' : 'none';\n",
              "\n",
              "        async function convertToInteractive(key) {\n",
              "          const element = document.querySelector('#df-8f325b09-8509-42fe-a703-f93f2f3cb395');\n",
              "          const dataTable =\n",
              "            await google.colab.kernel.invokeFunction('convertToInteractive',\n",
              "                                                     [key], {});\n",
              "          if (!dataTable) return;\n",
              "\n",
              "          const docLinkHtml = 'Like what you see? Visit the ' +\n",
              "            '<a target=\"_blank\" href=https://colab.research.google.com/notebooks/data_table.ipynb>data table notebook</a>'\n",
              "            + ' to learn more about interactive tables.';\n",
              "          element.innerHTML = '';\n",
              "          dataTable['output_type'] = 'display_data';\n",
              "          await google.colab.output.renderOutput(dataTable, element);\n",
              "          const docLink = document.createElement('div');\n",
              "          docLink.innerHTML = docLinkHtml;\n",
              "          element.appendChild(docLink);\n",
              "        }\n",
              "      </script>\n",
              "    </div>\n",
              "  </div>\n",
              "  "
            ]
          },
          "metadata": {},
          "execution_count": 24
        }
      ]
    },
    {
      "cell_type": "markdown",
      "metadata": {
        "id": "E07OtXI-ymO_"
      },
      "source": [
        "Требуется:\n",
        "\n",
        "  1) Вывести максимальную и минимальную дату в выборке. </br>\n",
        "  2) Разбить выборку на обучающую и валидационную, построить любую модель, оценить качество на валидационной части. Метрика, которую оптимизируем - roc_auc_score </br>\n",
        "  3) Загрузить валидационную часть, замерить roc_auc_score</br>\n",
        "  4) Построить график по df_test: по оси X - месяц, по оси Y - roc_auc_score"
      ]
    },
    {
      "cell_type": "code",
      "metadata": {
        "id": "SN2xyo4Nyk5j"
      },
      "source": [
        "#Ваш код здесь\n",
        "df['dt_2'] = pd.to_datetime(df.dt, format = \"%d.%m.%Y\")"
      ],
      "execution_count": 48,
      "outputs": []
    },
    {
      "cell_type": "code",
      "source": [
        "df.dt"
      ],
      "metadata": {
        "colab": {
          "base_uri": "https://localhost:8080/"
        },
        "id": "3Z3jC6Brgjc7",
        "outputId": "36464589-92e4-48f1-d41f-3c3b536520c5"
      },
      "execution_count": 39,
      "outputs": [
        {
          "output_type": "execute_result",
          "data": {
            "text/plain": [
              "0        06.02.2017\n",
              "1        09.04.2018\n",
              "2        06.02.2017\n",
              "3        06.02.2017\n",
              "4        30.03.2017\n",
              "            ...    \n",
              "64679    25.04.2018\n",
              "64680    06.08.2018\n",
              "64681    23.04.2018\n",
              "64682    04.05.2018\n",
              "64683    20.12.2017\n",
              "Name: dt, Length: 64684, dtype: object"
            ]
          },
          "metadata": {},
          "execution_count": 39
        }
      ]
    },
    {
      "cell_type": "code",
      "source": [
        "df.dt_2.max()"
      ],
      "metadata": {
        "colab": {
          "base_uri": "https://localhost:8080/"
        },
        "id": "26aebm56hYLL",
        "outputId": "d58c52ba-47a6-413b-95e5-b5cb35f38023"
      },
      "execution_count": 44,
      "outputs": [
        {
          "output_type": "execute_result",
          "data": {
            "text/plain": [
              "Timestamp('2018-12-30 00:00:00')"
            ]
          },
          "metadata": {},
          "execution_count": 44
        }
      ]
    },
    {
      "cell_type": "code",
      "source": [
        "df.dt_2.min()"
      ],
      "metadata": {
        "colab": {
          "base_uri": "https://localhost:8080/"
        },
        "id": "wekVSwP1jON7",
        "outputId": "2e44873a-6ed3-40d9-9d8b-8d79db51bef0"
      },
      "execution_count": 45,
      "outputs": [
        {
          "output_type": "execute_result",
          "data": {
            "text/plain": [
              "Timestamp('2017-02-04 00:00:00')"
            ]
          },
          "metadata": {},
          "execution_count": 45
        }
      ]
    },
    {
      "cell_type": "code",
      "source": [
        "df.loc[:10,df.columns.isin([\"dt\",\"dt_2\"])]"
      ],
      "metadata": {
        "colab": {
          "base_uri": "https://localhost:8080/",
          "height": 394
        },
        "id": "3X0pY3fzhmPx",
        "outputId": "750ea9a0-27aa-43b3-e717-a2772f3508f0"
      },
      "execution_count": 49,
      "outputs": [
        {
          "output_type": "execute_result",
          "data": {
            "text/plain": [
              "            dt       dt_2\n",
              "0   06.02.2017 2017-02-06\n",
              "1   09.04.2018 2018-04-09\n",
              "2   06.02.2017 2017-02-06\n",
              "3   06.02.2017 2017-02-06\n",
              "4   30.03.2017 2017-03-30\n",
              "5   07.02.2017 2017-02-07\n",
              "6   08.02.2017 2017-02-08\n",
              "7   09.02.2017 2017-02-09\n",
              "8   03.06.2018 2018-06-03\n",
              "9   09.02.2017 2017-02-09\n",
              "10  15.09.2017 2017-09-15"
            ],
            "text/html": [
              "\n",
              "  <div id=\"df-03c38c88-4832-409d-9bdb-399d7ebccbb5\">\n",
              "    <div class=\"colab-df-container\">\n",
              "      <div>\n",
              "<style scoped>\n",
              "    .dataframe tbody tr th:only-of-type {\n",
              "        vertical-align: middle;\n",
              "    }\n",
              "\n",
              "    .dataframe tbody tr th {\n",
              "        vertical-align: top;\n",
              "    }\n",
              "\n",
              "    .dataframe thead th {\n",
              "        text-align: right;\n",
              "    }\n",
              "</style>\n",
              "<table border=\"1\" class=\"dataframe\">\n",
              "  <thead>\n",
              "    <tr style=\"text-align: right;\">\n",
              "      <th></th>\n",
              "      <th>dt</th>\n",
              "      <th>dt_2</th>\n",
              "    </tr>\n",
              "  </thead>\n",
              "  <tbody>\n",
              "    <tr>\n",
              "      <th>0</th>\n",
              "      <td>06.02.2017</td>\n",
              "      <td>2017-02-06</td>\n",
              "    </tr>\n",
              "    <tr>\n",
              "      <th>1</th>\n",
              "      <td>09.04.2018</td>\n",
              "      <td>2018-04-09</td>\n",
              "    </tr>\n",
              "    <tr>\n",
              "      <th>2</th>\n",
              "      <td>06.02.2017</td>\n",
              "      <td>2017-02-06</td>\n",
              "    </tr>\n",
              "    <tr>\n",
              "      <th>3</th>\n",
              "      <td>06.02.2017</td>\n",
              "      <td>2017-02-06</td>\n",
              "    </tr>\n",
              "    <tr>\n",
              "      <th>4</th>\n",
              "      <td>30.03.2017</td>\n",
              "      <td>2017-03-30</td>\n",
              "    </tr>\n",
              "    <tr>\n",
              "      <th>5</th>\n",
              "      <td>07.02.2017</td>\n",
              "      <td>2017-02-07</td>\n",
              "    </tr>\n",
              "    <tr>\n",
              "      <th>6</th>\n",
              "      <td>08.02.2017</td>\n",
              "      <td>2017-02-08</td>\n",
              "    </tr>\n",
              "    <tr>\n",
              "      <th>7</th>\n",
              "      <td>09.02.2017</td>\n",
              "      <td>2017-02-09</td>\n",
              "    </tr>\n",
              "    <tr>\n",
              "      <th>8</th>\n",
              "      <td>03.06.2018</td>\n",
              "      <td>2018-06-03</td>\n",
              "    </tr>\n",
              "    <tr>\n",
              "      <th>9</th>\n",
              "      <td>09.02.2017</td>\n",
              "      <td>2017-02-09</td>\n",
              "    </tr>\n",
              "    <tr>\n",
              "      <th>10</th>\n",
              "      <td>15.09.2017</td>\n",
              "      <td>2017-09-15</td>\n",
              "    </tr>\n",
              "  </tbody>\n",
              "</table>\n",
              "</div>\n",
              "      <button class=\"colab-df-convert\" onclick=\"convertToInteractive('df-03c38c88-4832-409d-9bdb-399d7ebccbb5')\"\n",
              "              title=\"Convert this dataframe to an interactive table.\"\n",
              "              style=\"display:none;\">\n",
              "        \n",
              "  <svg xmlns=\"http://www.w3.org/2000/svg\" height=\"24px\"viewBox=\"0 0 24 24\"\n",
              "       width=\"24px\">\n",
              "    <path d=\"M0 0h24v24H0V0z\" fill=\"none\"/>\n",
              "    <path d=\"M18.56 5.44l.94 2.06.94-2.06 2.06-.94-2.06-.94-.94-2.06-.94 2.06-2.06.94zm-11 1L8.5 8.5l.94-2.06 2.06-.94-2.06-.94L8.5 2.5l-.94 2.06-2.06.94zm10 10l.94 2.06.94-2.06 2.06-.94-2.06-.94-.94-2.06-.94 2.06-2.06.94z\"/><path d=\"M17.41 7.96l-1.37-1.37c-.4-.4-.92-.59-1.43-.59-.52 0-1.04.2-1.43.59L10.3 9.45l-7.72 7.72c-.78.78-.78 2.05 0 2.83L4 21.41c.39.39.9.59 1.41.59.51 0 1.02-.2 1.41-.59l7.78-7.78 2.81-2.81c.8-.78.8-2.07 0-2.86zM5.41 20L4 18.59l7.72-7.72 1.47 1.35L5.41 20z\"/>\n",
              "  </svg>\n",
              "      </button>\n",
              "      \n",
              "  <style>\n",
              "    .colab-df-container {\n",
              "      display:flex;\n",
              "      flex-wrap:wrap;\n",
              "      gap: 12px;\n",
              "    }\n",
              "\n",
              "    .colab-df-convert {\n",
              "      background-color: #E8F0FE;\n",
              "      border: none;\n",
              "      border-radius: 50%;\n",
              "      cursor: pointer;\n",
              "      display: none;\n",
              "      fill: #1967D2;\n",
              "      height: 32px;\n",
              "      padding: 0 0 0 0;\n",
              "      width: 32px;\n",
              "    }\n",
              "\n",
              "    .colab-df-convert:hover {\n",
              "      background-color: #E2EBFA;\n",
              "      box-shadow: 0px 1px 2px rgba(60, 64, 67, 0.3), 0px 1px 3px 1px rgba(60, 64, 67, 0.15);\n",
              "      fill: #174EA6;\n",
              "    }\n",
              "\n",
              "    [theme=dark] .colab-df-convert {\n",
              "      background-color: #3B4455;\n",
              "      fill: #D2E3FC;\n",
              "    }\n",
              "\n",
              "    [theme=dark] .colab-df-convert:hover {\n",
              "      background-color: #434B5C;\n",
              "      box-shadow: 0px 1px 3px 1px rgba(0, 0, 0, 0.15);\n",
              "      filter: drop-shadow(0px 1px 2px rgba(0, 0, 0, 0.3));\n",
              "      fill: #FFFFFF;\n",
              "    }\n",
              "  </style>\n",
              "\n",
              "      <script>\n",
              "        const buttonEl =\n",
              "          document.querySelector('#df-03c38c88-4832-409d-9bdb-399d7ebccbb5 button.colab-df-convert');\n",
              "        buttonEl.style.display =\n",
              "          google.colab.kernel.accessAllowed ? 'block' : 'none';\n",
              "\n",
              "        async function convertToInteractive(key) {\n",
              "          const element = document.querySelector('#df-03c38c88-4832-409d-9bdb-399d7ebccbb5');\n",
              "          const dataTable =\n",
              "            await google.colab.kernel.invokeFunction('convertToInteractive',\n",
              "                                                     [key], {});\n",
              "          if (!dataTable) return;\n",
              "\n",
              "          const docLinkHtml = 'Like what you see? Visit the ' +\n",
              "            '<a target=\"_blank\" href=https://colab.research.google.com/notebooks/data_table.ipynb>data table notebook</a>'\n",
              "            + ' to learn more about interactive tables.';\n",
              "          element.innerHTML = '';\n",
              "          dataTable['output_type'] = 'display_data';\n",
              "          await google.colab.output.renderOutput(dataTable, element);\n",
              "          const docLink = document.createElement('div');\n",
              "          docLink.innerHTML = docLinkHtml;\n",
              "          element.appendChild(docLink);\n",
              "        }\n",
              "      </script>\n",
              "    </div>\n",
              "  </div>\n",
              "  "
            ]
          },
          "metadata": {},
          "execution_count": 49
        }
      ]
    },
    {
      "cell_type": "code",
      "metadata": {
        "colab": {
          "base_uri": "https://localhost:8080/",
          "height": 224
        },
        "id": "TjKRy5wYSbiD",
        "outputId": "1ce4cc38-06d7-4582-9dd0-ccd76cf5102b"
      },
      "source": [
        "test = pd.read_csv('https://raw.githubusercontent.com/alexH179/test/main/df_test.csv')\n",
        "test.head()"
      ],
      "execution_count": null,
      "outputs": [
        {
          "output_type": "execute_result",
          "data": {
            "text/html": [
              "<div>\n",
              "<style scoped>\n",
              "    .dataframe tbody tr th:only-of-type {\n",
              "        vertical-align: middle;\n",
              "    }\n",
              "\n",
              "    .dataframe tbody tr th {\n",
              "        vertical-align: top;\n",
              "    }\n",
              "\n",
              "    .dataframe thead th {\n",
              "        text-align: right;\n",
              "    }\n",
              "</style>\n",
              "<table border=\"1\" class=\"dataframe\">\n",
              "  <thead>\n",
              "    <tr style=\"text-align: right;\">\n",
              "      <th></th>\n",
              "      <th>id</th>\n",
              "      <th>dt</th>\n",
              "      <th>target</th>\n",
              "      <th>f0</th>\n",
              "      <th>f1</th>\n",
              "      <th>f2</th>\n",
              "      <th>f3</th>\n",
              "      <th>f4</th>\n",
              "      <th>f5</th>\n",
              "      <th>f6</th>\n",
              "      <th>f7</th>\n",
              "      <th>f8</th>\n",
              "      <th>f9</th>\n",
              "      <th>f10</th>\n",
              "      <th>f11</th>\n",
              "      <th>f12</th>\n",
              "      <th>f13</th>\n",
              "      <th>f14</th>\n",
              "      <th>f15</th>\n",
              "      <th>f16</th>\n",
              "      <th>f17</th>\n",
              "      <th>f18</th>\n",
              "      <th>f19</th>\n",
              "      <th>f20</th>\n",
              "    </tr>\n",
              "  </thead>\n",
              "  <tbody>\n",
              "    <tr>\n",
              "      <th>0</th>\n",
              "      <td>0</td>\n",
              "      <td>06.02.2017</td>\n",
              "      <td>0</td>\n",
              "      <td>1.333333</td>\n",
              "      <td>0.130484</td>\n",
              "      <td>75.0</td>\n",
              "      <td>0.084746</td>\n",
              "      <td>0.000000</td>\n",
              "      <td>47.0</td>\n",
              "      <td>0.047619</td>\n",
              "      <td>0.200000</td>\n",
              "      <td>64.0</td>\n",
              "      <td>60.0</td>\n",
              "      <td>0.0</td>\n",
              "      <td>0.288136</td>\n",
              "      <td>0.016949</td>\n",
              "      <td>69.0</td>\n",
              "      <td>0.000000</td>\n",
              "      <td>0.142857</td>\n",
              "      <td>0.0</td>\n",
              "      <td>0.000000</td>\n",
              "      <td>0.387097</td>\n",
              "      <td>79.0</td>\n",
              "      <td>0</td>\n",
              "    </tr>\n",
              "    <tr>\n",
              "      <th>1</th>\n",
              "      <td>5</td>\n",
              "      <td>07.12.2017</td>\n",
              "      <td>0</td>\n",
              "      <td>NaN</td>\n",
              "      <td>NaN</td>\n",
              "      <td>NaN</td>\n",
              "      <td>0.142857</td>\n",
              "      <td>0.000000</td>\n",
              "      <td>NaN</td>\n",
              "      <td>0.000000</td>\n",
              "      <td>0.000000</td>\n",
              "      <td>86.0</td>\n",
              "      <td>1.0</td>\n",
              "      <td>NaN</td>\n",
              "      <td>0.107143</td>\n",
              "      <td>0.392857</td>\n",
              "      <td>15.0</td>\n",
              "      <td>0.000000</td>\n",
              "      <td>0.000000</td>\n",
              "      <td>0.0</td>\n",
              "      <td>0.000000</td>\n",
              "      <td>0.000000</td>\n",
              "      <td>49.0</td>\n",
              "      <td>5</td>\n",
              "    </tr>\n",
              "    <tr>\n",
              "      <th>2</th>\n",
              "      <td>5</td>\n",
              "      <td>21.09.2018</td>\n",
              "      <td>0</td>\n",
              "      <td>1.211228</td>\n",
              "      <td>0.126078</td>\n",
              "      <td>NaN</td>\n",
              "      <td>0.681818</td>\n",
              "      <td>0.000000</td>\n",
              "      <td>NaN</td>\n",
              "      <td>NaN</td>\n",
              "      <td>0.000000</td>\n",
              "      <td>66.0</td>\n",
              "      <td>NaN</td>\n",
              "      <td>NaN</td>\n",
              "      <td>0.090909</td>\n",
              "      <td>0.636364</td>\n",
              "      <td>27.0</td>\n",
              "      <td>0.000000</td>\n",
              "      <td>0.000000</td>\n",
              "      <td>0.0</td>\n",
              "      <td>0.000000</td>\n",
              "      <td>NaN</td>\n",
              "      <td>59.0</td>\n",
              "      <td>5</td>\n",
              "    </tr>\n",
              "    <tr>\n",
              "      <th>3</th>\n",
              "      <td>5</td>\n",
              "      <td>08.02.2017</td>\n",
              "      <td>0</td>\n",
              "      <td>0.981888</td>\n",
              "      <td>0.268263</td>\n",
              "      <td>NaN</td>\n",
              "      <td>0.400000</td>\n",
              "      <td>0.263158</td>\n",
              "      <td>NaN</td>\n",
              "      <td>0.000000</td>\n",
              "      <td>0.000000</td>\n",
              "      <td>42.0</td>\n",
              "      <td>1.0</td>\n",
              "      <td>NaN</td>\n",
              "      <td>0.000000</td>\n",
              "      <td>0.720000</td>\n",
              "      <td>17.0</td>\n",
              "      <td>0.000000</td>\n",
              "      <td>0.000000</td>\n",
              "      <td>0.0</td>\n",
              "      <td>0.000000</td>\n",
              "      <td>0.000000</td>\n",
              "      <td>49.0</td>\n",
              "      <td>5</td>\n",
              "    </tr>\n",
              "    <tr>\n",
              "      <th>4</th>\n",
              "      <td>10</td>\n",
              "      <td>09.02.2017</td>\n",
              "      <td>0</td>\n",
              "      <td>1.054374</td>\n",
              "      <td>0.284009</td>\n",
              "      <td>97.0</td>\n",
              "      <td>0.300000</td>\n",
              "      <td>0.068807</td>\n",
              "      <td>59.0</td>\n",
              "      <td>0.962121</td>\n",
              "      <td>0.722222</td>\n",
              "      <td>46.0</td>\n",
              "      <td>99.0</td>\n",
              "      <td>14.0</td>\n",
              "      <td>0.391304</td>\n",
              "      <td>0.100000</td>\n",
              "      <td>100.0</td>\n",
              "      <td>0.321429</td>\n",
              "      <td>0.157895</td>\n",
              "      <td>0.0</td>\n",
              "      <td>0.008547</td>\n",
              "      <td>0.966912</td>\n",
              "      <td>83.0</td>\n",
              "      <td>10</td>\n",
              "    </tr>\n",
              "  </tbody>\n",
              "</table>\n",
              "</div>"
            ],
            "text/plain": [
              "   id          dt  target        f0  ...       f17       f18   f19  f20\n",
              "0   0  06.02.2017       0  1.333333  ...  0.000000  0.387097  79.0    0\n",
              "1   5  07.12.2017       0       NaN  ...  0.000000  0.000000  49.0    5\n",
              "2   5  21.09.2018       0  1.211228  ...  0.000000       NaN  59.0    5\n",
              "3   5  08.02.2017       0  0.981888  ...  0.000000  0.000000  49.0    5\n",
              "4  10  09.02.2017       0  1.054374  ...  0.008547  0.966912  83.0   10\n",
              "\n",
              "[5 rows x 24 columns]"
            ]
          },
          "metadata": {
            "tags": []
          },
          "execution_count": 88
        }
      ]
    },
    {
      "cell_type": "code",
      "metadata": {
        "id": "7n_u4vrMxRdd"
      },
      "source": [
        "#Ваш код здесь"
      ],
      "execution_count": null,
      "outputs": []
    },
    {
      "cell_type": "markdown",
      "metadata": {
        "id": "pF_RgkbLPIDK"
      },
      "source": [
        "## Часть 2. Бизнес-кейсы"
      ]
    },
    {
      "cell_type": "markdown",
      "metadata": {
        "id": "fE_4m-WQPMu8"
      },
      "source": [
        "*Задача 1.* \n",
        "\n",
        "Интернет-магазин хочет построить модель по выявлению клиентов, заинтересованных в покупке смартфона. У магазина есть:\n",
        "\n",
        "  1) Выборка всех клиентов магазина размером 10 млн. Формат - таблица с одним полем: `client_id` (идентификатор клиента); </br>\n",
        "\n",
        "  2) Выборка 10к клиентов, которые купили смартфон. Формат - таблица с двумя полями: `client_id` (идентификатор клиента), `target_date` (дата покупки смартфона);  </br> \n",
        "\n",
        "  3) Различные \"сегментационные\" данные (такие как пол/возраст клиента);\n",
        "\n",
        "  4) Данные истории захода клиента на различные сайты. Формат - таблица с четырьмя полями: `сlient_id` (идентификатор клиента), `name` (название сайта), `date` (дата захода на сайт), `duration` (длительность посещения сайта).  </br> \n",
        "  \n",
        "  Какие подходы к построению такой модели можно предложить? "
      ]
    },
    {
      "cell_type": "markdown",
      "source": [
        "*Задача 2.*\n",
        "\n",
        "Интернет-магазин успешно построил модель лидогенерации из предыдущей задачи и запустил ее в проде. После запуска модели аналитики увидели среднюю конверсию в покупку в нашем магазине 1 % при 1000 рассылках в день. При этом стоимость комммуникации - 1 руб, а каждый смартфон в магазине стоит 2000 руб. Можно ли утверждать, что модель экономически рентабельна?"
      ],
      "metadata": {
        "id": "cCAkdK_NpFuF"
      }
    },
    {
      "cell_type": "markdown",
      "metadata": {
        "id": "KJEAL91_w626"
      },
      "source": [
        "*Задача 3.*\n",
        "\n",
        "После успешного теста модели лидогенерации интернет-магазин построил вторую модель на другом признаковом пространстве и запустил ее в прод параллельно с первой моделью. Замеры результатов коммуникации по моделям за два дня приведены в таблице ниже: \n",
        "\n",
        "\n",
        "\n",
        "\n",
        "```\n",
        "model1    |  Количество коммуникаций | Количество покупок\n",
        "\n",
        "21.02.2020|    1000\t                   |      8     \n",
        "\n",
        "22.02.2020|    970\t                   |      12\n",
        "\n",
        "model2    |  Количество коммуникаций | Количество покупок\n",
        "\n",
        "21.02.2020|    1000\t                   |      13     \n",
        "\n",
        "22.02.2020|    990\t                   |      9\n",
        "\n",
        "```\n",
        "\n",
        " \n",
        "Вопросы:\n",
        "- Какие выводы можно сделать, на основе имеющейся статистики? Какова статическая значимость полученных результатов?\n",
        "- Сколько дней нужно проводить тестирование, чтобы статическая значимость была не менее 95%?\n",
        "\n"
      ]
    },
    {
      "cell_type": "markdown",
      "source": [
        "## Часть 3. SQL"
      ],
      "metadata": {
        "id": "LqlJsQHszgTU"
      }
    },
    {
      "cell_type": "markdown",
      "metadata": {
        "id": "gKklDBrMO-Wy"
      },
      "source": [
        "У вас есть таблица с полями id абонента (client_id), дата (start_date),  статус(status).\n",
        "\n",
        "Типы полей: client_id [int], start_date [date], status [boolean]. \n",
        "\n",
        "Статус принимает значение 1 если абонент активировался, 0 если абонент стал заблокированным. Дата означает дату активации/блокировки.\n",
        "\n",
        "Пример записей:\n",
        "```\n",
        "client_id    |  start_date       |  status\n",
        "\n",
        "123456\t   |    2020-01-01\t |      1\n",
        "\n",
        "123457\t   |    2020-01-01\t |      1\n",
        "\n",
        "123456\t   |    2020-01-14\t |      0\n",
        "\n",
        "123456\t   |    2020-01-17\t |      1\n",
        "\n",
        "```\n",
        "\n",
        "\n",
        "Данные взяты за 1 месяц (январь 2020г) по всем абонентам, которые были активированы 1 января (подразумевается, что у всех абонентов имеется запись start_date = 2020-01-01, status = 1). В течение месяца абонент может быть заблокирован неограниченное число раз, в том числе 0. Запись по абоненту добавляется только в день смены статуса, если в последующие дни статус не менялся, то новых записей по данному абоненту не будет.\n",
        "\n",
        "Например у абонента за месяц 2 записи: \n",
        "```\n",
        "123456       |    2020-01-01     |      1\n",
        "123456       |    2020-01-14     |      0\n",
        " ```\n",
        " \n",
        "Тогда кол-во дней в блокировке в январе: с 2020-01-14  по 2020-01-31 включительно = 18 дней.\n",
        "\n",
        "Напишите запрос на SQL, который по каждому абоненту возвращает суммарное кол-во дней, проведенных в блокировке. Запрос должен возвращать client_id и колонку с количеством дней в блокировке.\n",
        "\n"
      ]
    },
    {
      "cell_type": "code",
      "metadata": {
        "id": "6uma_BMuO-W0"
      },
      "source": [
        "#Ваш код здесь"
      ],
      "execution_count": null,
      "outputs": []
    },
    {
      "cell_type": "markdown",
      "metadata": {
        "id": "PTcgiqB2O-W0"
      },
      "source": [
        "Код можно тестировать на платформе https://www.jdoodle.com/execute-sql-online/ c таблицей example.\n",
        "\n",
        "Предварительно выполните команды:\n",
        "\n",
        "```\n",
        "create table example(client_id   int ,  start_date string,  status int);\n",
        "\n",
        "insert into example \n",
        "values \n",
        "      (123456,'2020-01-01',1),\n",
        "      (123457,'2020-01-01',1),\n",
        "      (123458,'2020-01-01',1),\n",
        "      (123459,'2020-01-01',1),\n",
        "      (123456,'2020-01-14',0),\n",
        "      (123459,'2020-01-20',0),\n",
        "      (123459,'2020-01-21',1),\n",
        "      (123459,'2020-01-25',0),\n",
        "      (123459,'2020-01-27',1),\n",
        "      (123457,'2020-01-31',0);\n",
        "\n",
        "select * from example limit 10;\n",
        "```"
      ]
    },
    {
      "cell_type": "code",
      "source": [
        "df = pd.DataFrame([\n",
        "    [123456,'2020-01-01',1],\n",
        "    [123457,'2020-01-01',1],\n",
        "    [123458,'2020-01-01',1],\n",
        "    [123459,'2020-01-01',1],\n",
        "    [123456,'2020-01-14',0],\n",
        "    [123459,'2020-01-20',0],\n",
        "    [123459,'2020-01-21',1],\n",
        "    [123459,'2020-01-25',0],\n",
        "    [123459,'2020-01-27',1],\n",
        "    [123457,'2020-01-31',0],\n",
        "], columns=['client_id', 'start_date', 'status'])"
      ],
      "metadata": {
        "id": "-jmvIJaU6Xv6"
      },
      "execution_count": null,
      "outputs": []
    },
    {
      "cell_type": "code",
      "source": [
        "#Ваш код здесь"
      ],
      "metadata": {
        "id": "r_s3ui6V6i5T"
      },
      "execution_count": null,
      "outputs": []
    }
  ]
}